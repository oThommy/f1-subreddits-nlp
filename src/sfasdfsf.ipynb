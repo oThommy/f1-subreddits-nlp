{
 "cells": [
  {
   "cell_type": "code",
   "execution_count": null,
   "metadata": {},
   "outputs": [],
   "source": [
    "import json\n",
    "from pathlib import Path\n",
    "from tqdm import tqdm\n",
    "import pandas as pd\n",
    "from transformers import AutoTokenizer, AutoModelForSequenceClassification\n",
    "import torch\n",
    "from src.data.loader import load_submissions_df, load_comments_df\n",
    "import src.data.constants as dataset_constants\n",
    "import re\n",
    "\n",
    "# Load data\n",
    "f1_submissions_df = load_submissions_df(\n",
    "    dataset_constants.RawFile.FORMULA1_SUBMISSIONS,\n",
    "    columns=dataset_constants.DEFAULT_SUBMISSION_COLUMNS | {'permalink', 'post_hint', 'link_flair_text'},\n",
    ")\n",
    "f1_comments_df = load_comments_df(\n",
    "    dataset_constants.RawFile.FORMULA1_COMMENTS,\n",
    "    columns=dataset_constants.DEFAULT_COMMENT_COLUMNS | {'link_id'},\n",
    ")\n",
    "\n",
    "# Preprocess to filter for steward decision-related posts\n",
    "steward_decision_related_words = {\n",
    "    'penalty', 'steward', 'decision', 'appeal', 'review', 'ruling', 'investigation', 'regulation',\n",
    "    'seconds', 'sec', 'collision', 'crash', 'incident', 'overtake', 'virtual safety car', 'blocking', 'brake test',\n",
    "    'contact', 'red flag', 'yellow flag', 'controversial', 'rigged', 'corrupt', 'bias', 'protest', 'FIA', 'document', 'infringement'\n",
    "}\n",
    "\n",
    "excluded_submission_ids = {\n",
    "    'vdr1c6', 'w7z5aj', 'wf87e0', 'x1zd5z', 'x3y140'\n",
    "}\n",
    "\n",
    "words_regex = ''.join(fr'\\b{word}\\b|' for word in steward_decision_related_words)[:-1]\n",
    "steward_decision_pattern = re.compile(words_regex, flags=re.IGNORECASE)\n",
    "relevant_flairs = {':post-technical: Technical', ':post-news: News'}\n",
    "\n",
    "has_related_words = f1_submissions_df['title'].apply(lambda title: steward_decision_pattern.search(title) is not None)\n",
    "has_relevant_flairs = f1_submissions_df['link_flair_text'].isin(relevant_flairs)\n",
    "is_image_post = f1_submissions_df['post_hint'] == 'image'\n",
    "is_included = ~f1_submissions_df['id'].isin(excluded_submission_ids)\n",
    "\n",
    "steward_decision_submissions_df = f1_submissions_df[has_related_words & has_relevant_flairs & is_image_post & is_included]\n",
    "\n",
    "\n"
   ]
  },
  {
   "cell_type": "code",
   "execution_count": 9,
   "metadata": {},
   "outputs": [],
   "source": [
    "# Allow user to select a submission ID and label comments\n",
    "def label_comments_for_submission(submission_id: str):\n",
    "    submission_link_id = f't3_{submission_id}'\n",
    "    comments_df = f1_comments_df[f1_comments_df['link_id'] == submission_link_id]\n",
    "\n",
    "    if comments_df.empty:\n",
    "        print(\"No comments for this submission.\")\n",
    "        return\n",
    "\n",
    "    labeled_comments = []\n",
    "\n",
    "    for idx, row in comments_df.iterrows():\n",
    "        print(f\"Comment {row['id']}: {row['body']}\")\n",
    "        label = input(\"Enter sentiment label (1=Negative, 2=Neutral, 3=Positive): \")\n",
    "        while label not in ['1', '2', '3', 'q']:\n",
    "            label = input(\"Invalid input. Enter sentiment label (1=Negative, 2=Neutral, 3=Positive): \")\n",
    "        \n",
    "        if label == 'q':\n",
    "            break\n",
    "\n",
    "        labeled_comments.append({\n",
    "            \"comment_id\": row['id'],\n",
    "            \"sentiment\": ['sdfdsf', 'Negative', 'Neutral', 'Positive'][int(label)]\n",
    "        })\n",
    "\n",
    "    # Save labeled comments to an NDJSON file\n",
    "    output_file = Path(f\"labeled_comments_{submission_id}.ndjson\")\n",
    "    with open(output_file, 'w') as f:\n",
    "        for labeled_comment in labeled_comments:\n",
    "            f.write(json.dumps(labeled_comment) + '\\n')\n",
    "    print(f\"Labeled comments saved to {output_file}\")"
   ]
  },
  {
   "cell_type": "code",
   "execution_count": null,
   "metadata": {},
   "outputs": [],
   "source": [
    "submission_id = input(\"Enter submission ID: \")\n",
    "label_comments_for_submission(submission_id)"
   ]
  }
 ],
 "metadata": {
  "kernelspec": {
   "display_name": ".venv",
   "language": "python",
   "name": "python3"
  },
  "language_info": {
   "codemirror_mode": {
    "name": "ipython",
    "version": 3
   },
   "file_extension": ".py",
   "mimetype": "text/x-python",
   "name": "python",
   "nbconvert_exporter": "python",
   "pygments_lexer": "ipython3",
   "version": "3.12.8"
  }
 },
 "nbformat": 4,
 "nbformat_minor": 2
}
