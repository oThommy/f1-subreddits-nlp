{
 "cells": [
  {
   "cell_type": "code",
   "execution_count": null,
   "metadata": {},
   "outputs": [],
   "source": [
    "from collections.abc import Generator, Callable\n",
    "from pathlib import Path\n",
    "import typing\n",
    "from typing import Any, TypeAlias\n",
    "import pandas as pd\n",
    "import numpy as np\n",
    "import datetime as dt\n",
    "import re\n",
    "from functools import partial, reduce\n",
    "from tqdm import tqdm\n",
    "from IPython.display import (\n",
    "    display, # type: ignore[reportUnknownVariableType]\n",
    "    Markdown,\n",
    ")\n",
    "\n",
    "import importlib\n",
    "\n",
    "from config.fastf1 import fastf1\n",
    "from config import config\n",
    "from src.data.loader import stream_ndjson, load_submissions_df, load_comments_df\n",
    "from src.data.preprocessing import concatenate_submissions_and_comments\n",
    "import src.data.constants as dataset_constants\n",
    "import src.data.loader\n",
    "importlib.reload(src.data.loader);\n",
    "importlib.reload(dataset_constants);\n",
    "\n",
    "from src.utils import (\n",
    "    temporary_pandas_options,\n",
    "    display_full_dataframe,\n",
    "    hide_index,\n",
    "    compose,\n",
    ")\n",
    "from src import utils\n",
    "utils.set_random_seeds()\n",
    "DEVICE = utils.get_device()\n",
    "\n",
    "import logging\n",
    "logging.getLogger('fastf1').setLevel(logging.WARNING)"
   ]
  },
  {
   "cell_type": "code",
   "execution_count": 23,
   "metadata": {},
   "outputs": [],
   "source": [
    "f1_ndjson_streamer = partial(stream_ndjson, limit=10)\n",
    "f1_submissions_df = load_submissions_df(dataset_constants.RawFile.FORMULA1_SUBMISSIONS, f1_ndjson_streamer)\n",
    "f1_comments_df = load_comments_df(dataset_constants.RawFile.FORMULA1_COMMENTS, f1_ndjson_streamer)\n",
    "\n",
    "f1_submissions_df = load_submissions_df(dataset_constants.RawFile.FORMULA1POINT5_SUBMISSIONS)\n",
    "f1_comments_df = load_comments_df(dataset_constants.RawFile.FORMULA1POINT5_COMMENTS)"
   ]
  },
  {
   "cell_type": "code",
   "execution_count": null,
   "metadata": {},
   "outputs": [],
   "source": [
    "n = 4\n",
    "\n",
    "with display_full_dataframe():\n",
    "    display(Markdown('### r/formula1 submissions:'), f1_submissions_df.head(n))\n",
    "    display(Markdown('### r/formula1 comments:'), f1_comments_df.head(n))\n",
    "    display(Markdown('### r/formula1point5 submissions:'), f1_submissions_df.head(n))\n",
    "    display(Markdown('### r/formula1point5 comments:'), f1_comments_df.head(n))"
   ]
  },
  {
   "cell_type": "code",
   "execution_count": null,
   "metadata": {},
   "outputs": [],
   "source": [
    "f1_df = concatenate_submissions_and_comments(f1_submissions_df, f1_comments_df)\n",
    "f15_df = concatenate_submissions_and_comments(f1_submissions_df, f1_comments_df)\n",
    "\n",
    "n = 8\n",
    "\n",
    "with display_full_dataframe():\n",
    "    display(Markdown('### r/formula1 posts:'), f1_df.head(n))\n",
    "    display(Markdown('### r/formula1point5 posts:'), f15_df.head(n))"
   ]
  },
  {
   "cell_type": "code",
   "execution_count": 26,
   "metadata": {},
   "outputs": [],
   "source": [
    "Steward_keywords = {\n",
    "    'penalty', 'steward', 'decision', 'appeal', 'review', 'ruling', 'investigation', 'regulation',\n",
    "    'seconds', 'sec', \n",
    "    'collision', 'crash', 'incident', 'overtake', 'virtual safety car', 'blocking', 'brake test', 'contact',\n",
    "    'red flag', 'yellow flag', \n",
    "    'controversial', 'rigged', 'corrupt', 'bias', 'protest', 'FIA'\n",
    "    }"
   ]
  },
  {
   "cell_type": "code",
   "execution_count": 27,
   "metadata": {},
   "outputs": [],
   "source": [
    "f1_submissions_df = load_submissions_df(\n",
    "    dataset_constants.RawFile.FORMULA1_SUBMISSIONS,\n",
    "    columns=dataset_constants.SUBMISSION_COLUMNS | {'permalink'},\n",
    ")\n",
    "f1_comments_df = load_comments_df(\n",
    "    dataset_constants.RawFile.FORMULA1_COMMENTS,\n",
    "    columns=dataset_constants.COMMENT_COLUMNS | {'link_id'},\n",
    ")"
   ]
  },
  {
   "cell_type": "code",
   "execution_count": null,
   "metadata": {},
   "outputs": [],
   "source": [
    "sample_submission_permalink = '/r/formula1/comments/yfcxll/fia_document_of_stewards_decision_for_alpines/'\n",
    "sample_submission = f1_submissions_df[f1_submissions_df['permalink'] == sample_submission_permalink].iloc[0]\n",
    "sample_submission_link_id = f't3_{sample_submission['id']}'\n",
    "\n",
    "with display_full_dataframe():\n",
    "    display(sample_submission)\n",
    "\n",
    "comments_in_sample_submission = f1_comments_df[f1_comments_df['link_id'] == sample_submission_link_id]\n",
    "\n",
    "with display_full_dataframe():\n",
    "    display(comments_in_sample_submission)\n",
    "\n",
    "display(comments_in_sample_submission['body'])"
   ]
  },
  {
   "cell_type": "code",
   "execution_count": null,
   "metadata": {},
   "outputs": [],
   "source": []
  },
  {
   "cell_type": "code",
   "execution_count": 30,
   "metadata": {},
   "outputs": [],
   "source": [
    "# EXTRACT RELEVANT POSTS AND COMMENTS \n"
   ]
  },
  {
   "cell_type": "markdown",
   "metadata": {},
   "source": [
    "# VADER SENTIMENT ANALYSIS"
   ]
  },
  {
   "cell_type": "code",
   "execution_count": null,
   "metadata": {},
   "outputs": [],
   "source": [
    "from vaderSentiment.vaderSentiment import SentimentIntensityAnalyzer\n",
    "# compound is a number indicating the positiveness, negativeness of a document, normalizing between -1 and 1.\n",
    "\n",
    "analyzer = SentimentIntensityAnalyzer()\n",
    "\n",
    "comments_in_sample_submission['compound'] = comments_in_sample_submission['body'].apply(\n",
    "    lambda text: analyzer.polarity_scores(text)['compound']\n",
    ")   #creates a data series with a score (float) given an input comment\n",
    "\n",
    "NOEMER = np.abs(comments_in_sample_submission['score']).sum()\n",
    "average_sentiment = (comments_in_sample_submission['compound'] * comments_in_sample_submission['score']).sum() / NOEMER    \n",
    "    \n",
    "print(average_sentiment)\n",
    "\n",
    "def Vader_sentiment(average_sentiment):\n",
    "    if average_sentiment >= 0.05:\n",
    "        return \"Positive\"\n",
    "    elif average_sentiment <= -0.05:\n",
    "        return \"Negative\"\n",
    "    else:\n",
    "        return \"Neutral\"\n",
    "\n",
    "print(Vader_sentiment(average_sentiment))"
   ]
  },
  {
   "cell_type": "code",
   "execution_count": 32,
   "metadata": {},
   "outputs": [],
   "source": [
    "# integrating sentiment_VADER \n",
    "\n",
    "\n"
   ]
  },
  {
   "cell_type": "markdown",
   "metadata": {},
   "source": [
    "# BERT SENTIMENT ANALYSIS"
   ]
  },
  {
   "cell_type": "code",
   "execution_count": null,
   "metadata": {},
   "outputs": [],
   "source": [
    "from transformers import AutoTokenizer, AutoModelForSequenceClassification\n",
    "\n",
    "tokenizer = AutoTokenizer.from_pretrained(\"cardiffnlp/twitter-roberta-base-sentiment-latest\")\n",
    "model = AutoModelForSequenceClassification.from_pretrained(\"cardiffnlp/twitter-roberta-base-sentiment-latest\")\n",
    "model.to(DEVICE);\n"
   ]
  },
  {
   "cell_type": "code",
   "execution_count": null,
   "metadata": {},
   "outputs": [],
   "source": [
    "document_pattern = re.compile(r'\\bdocument\\b', flags=re.IGNORECASE)\n",
    "steward_document_submissions_df = f1_submissions_df[f1_submissions_df['title'].apply(lambda title: document_pattern.search(title) is not None)].copy()\n",
    "\n",
    "# with display_full_dataframe():\n",
    "#     display(steward_document_submissions_df.head(3))\n",
    "\n",
    "\n",
    "for index, steward_document_submission in steward_document_submissions_df.iterrows():\n",
    "    submission_link_id = f't3_{steward_document_submission['id']}'\n",
    "    comments_df = f1_comments_df[f1_comments_df['link_id'] == submission_link_id].copy()\n",
    "\n",
    "    # display(comments_df)\n",
    "    # print(comments_df.empty)\n",
    "    # x = comments_df.empty\n",
    "    # break\n",
    "\n",
    "    if comments_df.empty:\n",
    "        steward_document_submissions_df.loc[index, 'average_sentiment'] = np.nan\n",
    "        continue\n",
    "    \n",
    "    NOEMER = np.abs(comments_df['score']).sum()\n",
    "    \n",
    "    if NOEMER == 0:\n",
    "        steward_document_submissions_df.loc[index, 'average_sentiment'] = np.nan\n",
    "        continue\n",
    "\n",
    "\n",
    "    comments_df.loc[:, 'compound'] = comments_df['body'].apply(\n",
    "        lambda text: analyzer.polarity_scores(text)['compound']\n",
    "    )   #creates a data series with a score (float) given an input comment\n",
    "\n",
    "\n",
    "    # if NOEMER != 0:\n",
    "    average_sentiment = (comments_df['compound'] * comments_df['score']).sum() / NOEMER\n",
    "    steward_document_submissions_df.loc[index, 'average_sentiment'] = average_sentiment\n",
    "\n",
    "    # else: \n",
    "    #     average_sentiment = 0.0\n",
    "    \n",
    "    # score = 0\n",
    "    # compound_list = []\n",
    "    # for _, comment in comments_df.iterrows():\n",
    "    #     compound_list.append(analyzer.polarity_scores(comment['body'])['compound'])\n",
    "    #     comment_score = comments_df['score']\n",
    "    #     score += np.abs(comment_score)\n",
    "\n",
    "    # compound_sum = np.array(compound_list).sum()\n",
    "    # x = comments_df['compound'] * comments_df['score'] / compound_sum\n",
    "    # print(Vader_sentiment(average_sentiment))\n",
    "    # print(average_sentiment)\n",
    "    \n",
    "\n",
    "\n",
    "with display_full_dataframe():\n",
    "    display(steward_document_submissions_df)\n",
    "    display(steward_document_submissions_df['average_sentiment'])\n",
    "\n",
    "# display(comments_in_sample_submission['body'])"
   ]
  }
 ],
 "metadata": {
  "kernelspec": {
   "display_name": ".venv",
   "language": "python",
   "name": "python3"
  },
  "language_info": {
   "codemirror_mode": {
    "name": "ipython",
    "version": 3
   },
   "file_extension": ".py",
   "mimetype": "text/x-python",
   "name": "python",
   "nbconvert_exporter": "python",
   "pygments_lexer": "ipython3",
   "version": "3.12.8"
  }
 },
 "nbformat": 4,
 "nbformat_minor": 2
}
