{
 "cells": [
  {
   "cell_type": "code",
   "execution_count": 2,
   "metadata": {},
   "outputs": [],
   "source": [
    "import json\n",
    "from config import config\n",
    "from pathlib import Path\n",
    "import pandas as pd\n",
    "from collections.abc import Generator\n",
    "from typing import Any, TypeAlias"
   ]
  },
  {
   "cell_type": "code",
   "execution_count": null,
   "metadata": {},
   "outputs": [],
   "source": [
    "RAW_FORMULA1_COMMENTS_FILE = config.RAW_DATA_DIR / 'formula1_comments.ndjson'\n",
    "RAW_FORMULA1_SUBMISSIONS_FILE = config.RAW_DATA_DIR / 'formula1_submissions.ndjson'\n",
    "RAW_FORMULA1POINT5_COMMENTS_FILE = config.RAW_DATA_DIR / 'formula1point5_comments.ndjson'\n",
    "RAW_FORMULA1POINT5_SUBMISSIONS_FILE = config.RAW_DATA_DIR / 'formula1point5_submissions.ndjson'\n",
    "\n",
    "CommentsDict: TypeAlias = dict[str, Any]\n",
    "SubmissionsDict: TypeAlias = dict[str, Any]\n",
    "\n",
    "def load_ndjson(ndjson_file: Path) -> Generator[dict[str, Any]]:\n",
    "    with open(ndjson_file, 'r', encoding='utf-8') as file:\n",
    "        for line in file:\n",
    "            yield json.loads(line)\n",
    "\n",
    "def load_comments(ndjson_file: Path) -> Generator[CommentsDict]:\n",
    "    yield from load_ndjson(ndjson_file)\n",
    "\n",
    "def load_submissions(ndjson_file: Path) -> Generator[SubmissionsDict]:\n",
    "    yield from load_ndjson(ndjson_file)"
   ]
  },
  {
   "cell_type": "code",
   "execution_count": null,
   "metadata": {},
   "outputs": [],
   "source": [
    "display(tuple(load_submissions(RAW_FORMULA1POINT5_SUBMISSIONS_FILE)))\n",
    "\n"
   ]
  },
  {
   "cell_type": "code",
   "execution_count": null,
   "metadata": {},
   "outputs": [],
   "source": [
    "formula1_comments = tuple(load_comments(RAW_FORMULA1_COMMENTS_FILE))\n",
    "formula1_submissions = tuple(load_submissions(RAW_FORMULA1_SUBMISSIONS_FILE))\n",
    "formula1point5_comments = tuple(load_comments(RAW_FORMULA1POINT5_COMMENTS_FILE))\n",
    "formula1point5_submissions = tuple(load_submissions(RAW_FORMULA1POINT5_SUBMISSIONS_FILE))"
   ]
  }
 ],
 "metadata": {
  "kernelspec": {
   "display_name": ".venv",
   "language": "python",
   "name": "python3"
  },
  "language_info": {
   "codemirror_mode": {
    "name": "ipython",
    "version": 3
   },
   "file_extension": ".py",
   "mimetype": "text/x-python",
   "name": "python",
   "nbconvert_exporter": "python",
   "pygments_lexer": "ipython3",
   "version": "3.12.8"
  }
 },
 "nbformat": 4,
 "nbformat_minor": 2
}
